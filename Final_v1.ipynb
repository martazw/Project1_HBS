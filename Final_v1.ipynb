{
 "cells": [
  {
   "attachments": {},
   "cell_type": "markdown",
   "metadata": {},
   "source": [
    "MS Studio\n",
    "\n",
    "When entering a new business, Microsoft has one tradition. Strive for excellence. Our goal with Microsoft Studio is to perpetuate this tradition. \n",
    "\n",
    "Every year, thousands of new movies are released. Some are acclaimed by the critics; others are box office success. Our goal is to release movies that are both, critic and box office success. \n",
    "First, less take a look on this 2x2 matrice of all the movies that were released during the last 10 years."
   ]
  },
  {
   "cell_type": "code",
   "execution_count": null,
   "metadata": {},
   "outputs": [],
   "source": [
    "#Importing libraries\n",
    "\n",
    "import pandas as pd\n",
    "import numpy as np\n",
    "import matplotlib.pyplot as plt\n",
    "import seaborn as sns\n",
    "%matplotlib inline\n",
    "!pip install mysql-connector-python"
   ]
  },
  {
   "cell_type": "code",
   "execution_count": null,
   "metadata": {},
   "outputs": [],
   "source": [
    "#Connecting SQL\n",
    "\n",
    "import mysql.connector\n",
    "con = mysql.connector.connect(user = 'hbs-student', password = 'super-secure-password?', host = 'hbs-ds-060120.c1doesqrid0e.us-east-1.rds.amazonaws.com', database = 'movies')\n",
    "cur = con.cursor()"
   ]
  },
  {
   "cell_type": "code",
   "execution_count": null,
   "metadata": {},
   "outputs": [],
   "source": [
    "#Creating df_all from IMDB ratings\n",
    "\n",
    "cur.execute(\"\"\"SELECT *\n",
    "                FROM movies.imdb_title_ratings\n",
    "                JOIN movies.imdb_title_basics USING(tconst)\n",
    "                WHERE imdb_title_basics.start_year >= 2010\n",
    "                AND imdb_title_ratings.numvotes > 50;\"\"\")\n",
    "\n",
    "\n",
    "\n",
    "df_all = pd.DataFrame(cur.fetchall())\n",
    "df_all.columns = [x[0] for x in cur.description]\n",
    "\n",
    "# Remove special characters\n",
    "spec_chars = [\"!\",'\"',\"#\",\"%\",\"&\",\"'\",\"(\",\")\",\n",
    "              \"*\",\"+\",\",\",\"-\",\".\",\"/\",\":\",\";\",\"<\",\n",
    "              \"=\",\">\",\"?\",\"@\",\"[\",\"\\\\\",\"]\",\"^\",\"_\",\n",
    "              \"`\",\"{\",\"|\",\"}\",\"~\",\"–\"]\n",
    "for char in spec_chars:\n",
    "    df_all['primary_title'] = df_all['primary_title'].str.replace(char, ' ')\n",
    "    \n",
    "#put Title in low caps\n",
    "df_all['primary_title'] =  df_all['primary_title'].map(lambda x: x.lower())\n",
    "\n",
    "df_all.head(2)"
   ]
  },
  {
   "cell_type": "code",
   "execution_count": null,
   "metadata": {},
   "outputs": [],
   "source": [
    "#Creating df_roi from tn_movie_budgets\n",
    "\n",
    "df_roi = pd.read_sql_query('select * from tn_movie_budgets', con)\n",
    "df_roi [\"release_date\"] = pd.to_datetime(df_roi [\"release_date\"]) \n",
    "df_roi.head()\n",
    "\n",
    "#Cleaning those 3 columns\n",
    "df_roi [\"production_budget\"] = df_roi [\"production_budget\"].map(lambda x: x.lstrip('$')).str.replace(',','')\n",
    "df_roi [\"domestic_gross\"] = df_roi [\"domestic_gross\"].map(lambda x: x.strip('$,')).str.replace(',','')\n",
    "df_roi [\"worldwide_gross\"] = df_roi [\"worldwide_gross\"].map(lambda x: x.strip('$,')).str.replace(',','')\n",
    "df_roi = df_roi.astype({\"production_budget\":'int64', \"domestic_gross\":'int64',\"worldwide_gross\":'int64'}) \n",
    "\n",
    "#New column roi metrics that show you \n",
    "df_roi [\"roi\"] = (df_roi [\"worldwide_gross\"])/df_roi [\"production_budget\"]\n",
    "df_roi = df_roi.sort_values(\"roi\",ascending = 0)\n",
    "\n",
    "# Selecting movies after 2000\n",
    "df_roi['year'] = df_roi['release_date'].apply(lambda x: x.year)\n",
    "df_roi = df_roi.loc [df_roi['year'] > 2010]\n",
    "\n",
    "#Rename column\n",
    "df_roi = df_roi.rename(columns={'movie': 'primary_title'})\n",
    "\n",
    "# Remove special characters\n",
    "spec_chars = [\"!\",'\"',\"#\",\"%\",\"&\",\"'\",\"(\",\")\",\n",
    "              \"*\",\"+\",\",\",\"-\",\".\",\"/\",\":\",\";\",\"<\",\n",
    "              \"=\",\">\",\"?\",\"@\",\"[\",\"\\\\\",\"]\",\"^\",\"_\",\n",
    "              \"`\",\"{\",\"|\",\"}\",\"~\",\"–\"]\n",
    "for char in spec_chars:\n",
    "    df_roi['primary_title'] = df_roi['primary_title'].str.replace(char, ' ')\n",
    "    \n",
    "#put Title in low caps\n",
    "df_roi['primary_title'] =  df_roi['primary_title'].map(lambda x: x.lower())\n",
    "\n",
    "#Rename column\n",
    "df_roi = df_roi.rename(columns={'movie': 'primary_title'})\n",
    "\n",
    "df_roi.head()"
   ]
  },
  {
   "cell_type": "code",
   "execution_count": null,
   "metadata": {},
   "outputs": [],
   "source": [
    "#Left merge between df_roi and df_all\n",
    "left_join_df = df_roi.merge(df_all, on='primary_title', how='left' )\n",
    "\n",
    "#Drop if ROI or Rating is NA\n",
    "left_join_df = left_join_df.dropna(subset = [\"averagerating\", \"roi\"])"
   ]
  },
  {
   "cell_type": "code",
   "execution_count": null,
   "metadata": {},
   "outputs": [],
   "source": [
    "plt.scatter(left_join_df['roi'] , left_join_df['averagerating'], marker=\"o\", s=1)\n",
    "plt.xlim(0, 20)\n",
    "plt.ylim(0, 10)\n",
    "\n",
    "plt.hlines(y=6.5, xmin=5, xmax=20, color='red')\n",
    "plt.vlines(x=5, ymin=6.5, ymax=10, color='red')\n",
    "\n",
    "\n",
    "plt.title(\"Scatter Plot of the ROI and average ratings of the movies released since 2010\")\n",
    "plt.xlabel('ROI')\n",
    "plt.ylabel('Rating') "
   ]
  },
  {
   "cell_type": "markdown",
   "metadata": {},
   "source": [
    "We are using 2 metrics to evaluate the movies:\n",
    "- the average rating on IMDB, only for movies with more than 50 ratings\n",
    "- the Return on Investment (ROI), which is the wordlwide revenue generated by a movie divided by the movie's budget\n",
    "\n",
    "We will focus our presentation on movies that have a ROI over 5 and an average rating > 6.5"
   ]
  },
  {
   "cell_type": "code",
   "execution_count": null,
   "metadata": {},
   "outputs": [],
   "source": []
  },
  {
   "cell_type": "code",
   "execution_count": null,
   "metadata": {},
   "outputs": [],
   "source": []
  },
  {
   "cell_type": "code",
   "execution_count": null,
   "metadata": {},
   "outputs": [],
   "source": []
  },
  {
   "cell_type": "code",
   "execution_count": null,
   "metadata": {},
   "outputs": [],
   "source": []
  },
  {
   "cell_type": "code",
   "execution_count": null,
   "metadata": {},
   "outputs": [],
   "source": []
  },
  {
   "cell_type": "code",
   "execution_count": null,
   "metadata": {},
   "outputs": [],
   "source": [
    "#Importing SQL data (IMDB Ratings)\n",
    "\n",
    "cur.execute(\"\"\"SELECT *\n",
    "                FROM movies.imdb_title_ratings\n",
    "                JOIN movies.imdb_title_basics USING (tconst)\n",
    "                JOIN movies.imdb_title_crew USING (tconst)\n",
    "                LEFT JOIN movies.imdb_name_basics ON movies.imdb_name_basics.nconst = movies.imdb_title_crew.directors\n",
    "                WHERE imdb_title_basics.start_year >= 2010\n",
    "                AND imdb_title_ratings.averagerating >6.5\n",
    "                AND imdb_title_ratings.numvotes > 50;\"\"\")\n",
    "\n",
    "df = pd.DataFrame(cur.fetchall())\n",
    "df.columns = [x[0] for x in cur.description]\n",
    "df\n",
    "\n"
   ]
  },
  {
   "cell_type": "code",
   "execution_count": null,
   "metadata": {},
   "outputs": [],
   "source": [
    "#Spliting genres into columns\n",
    "\n",
    "df[['Genres_1', 'Genres_2', 'Genres_3']] = df.genres.str.split(\",\", expand=True)\n",
    "df.head(5)\n"
   ]
  },
  {
   "cell_type": "code",
   "execution_count": null,
   "metadata": {},
   "outputs": [],
   "source": [
    "arr_genres = df.Genres_1.unique()\n",
    "arr_genres\n",
    "\n",
    "list_genres = arr_genres.tolist()\n",
    "list_genres.remove('')\n",
    "\n",
    "genres_count = []\n",
    "for genre in list_genres:\n",
    "    genres_count.append(df['genres'].apply(lambda x: genre in x).astype(np.uint8).sum())\n",
    "genres_count \n",
    "\n",
    "#df['isAdventure'] = df['genres'].apply(lambda x: 'Adventure' in x).astype(np.uint8)\n",
    "#total_adventure = df['isAdventure'].sum()"
   ]
  },
  {
   "cell_type": "code",
   "execution_count": null,
   "metadata": {},
   "outputs": [],
   "source": [
    "#Connecting two lists to dictionary and transforming to DataFrame\n",
    "#Sorting values by count (sum of all three genre types)\n",
    "\n",
    "genres_cumulative = {'genres': list_genres, 'genres_count': genres_count}\n",
    "genres_total = pd.DataFrame.from_dict(genres_cumulative)\n",
    "genres_total.sort_values(by = 'genres_count', ascending = False)"
   ]
  },
  {
   "cell_type": "code",
   "execution_count": null,
   "metadata": {},
   "outputs": [],
   "source": [
    "#Grouping by Genres1\n",
    "\n",
    "genres1 = df.groupby('Genres_1').count().sort_values(by = 'tconst', ascending = False)\n",
    "genres1 = genres1.tconst.reset_index()\n",
    "genres1 = genres1.rename(columns={\"tconst\": \"genres_count\"})\n",
    "genres1\n",
    "\n",
    "#Grouping by Genres2\n",
    "genres2 = df.groupby('Genres_2').count().sort_values(by = 'tconst', ascending = False)\n",
    "genres2 = genres2.tconst.reset_index()\n",
    "genres2 = genres2.rename(columns={\"tconst\": \"genres_count\"})\n",
    "genres2"
   ]
  },
  {
   "cell_type": "code",
   "execution_count": null,
   "metadata": {},
   "outputs": [],
   "source": []
  },
  {
   "cell_type": "code",
   "execution_count": null,
   "metadata": {},
   "outputs": [],
   "source": []
  },
  {
   "cell_type": "code",
   "execution_count": null,
   "metadata": {},
   "outputs": [],
   "source": [
    "#Renaming director column\n",
    "df = df.rename(columns={\"primary_name\": \"director_name\"})\n",
    "df.head(5)"
   ]
  },
  {
   "cell_type": "code",
   "execution_count": null,
   "metadata": {},
   "outputs": [],
   "source": [
    "#Grouping top rated movies by directors\n",
    "\n",
    "top_directors = df.groupby('director_name').count().sort_values(by = 'tconst', ascending = False)\n",
    "top_directors = top_directors.tconst.reset_index()\n",
    "top_directors = top_directors.rename(columns={\"tconst\": \"movies_count\"})\n",
    "top_directors = top_directors.loc[top_directors['movies_count'] >= 6]\n",
    "len(top_directors)\n",
    "\n",
    "#There are 45 directors who produces 6+ movies with rating 6.5+ over last 10 years"
   ]
  },
  {
   "cell_type": "code",
   "execution_count": null,
   "metadata": {},
   "outputs": [],
   "source": []
  },
  {
   "cell_type": "code",
   "execution_count": null,
   "metadata": {},
   "outputs": [],
   "source": []
  },
  {
   "cell_type": "code",
   "execution_count": null,
   "metadata": {},
   "outputs": [],
   "source": []
  },
  {
   "cell_type": "code",
   "execution_count": null,
   "metadata": {},
   "outputs": [],
   "source": [
    "#Left join between df_roi et df\n",
    "left_join_df_roi = df_roi.merge(df, on='primary_title', how='left' )\n",
    "df_join = left_join_df_roi.dropna(subset = [\"averagerating\", \"roi\"])\n"
   ]
  }
 ],
 "metadata": {
  "kernelspec": {
   "display_name": "Python 3",
   "language": "python",
   "name": "python3"
  },
  "language_info": {
   "codemirror_mode": {
    "name": "ipython",
    "version": 3
   },
   "file_extension": ".py",
   "mimetype": "text/x-python",
   "name": "python",
   "nbconvert_exporter": "python",
   "pygments_lexer": "ipython3",
   "version": "3.7.6"
  }
 },
 "nbformat": 4,
 "nbformat_minor": 4
}
